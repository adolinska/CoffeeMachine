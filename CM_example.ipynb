{
 "cells": [
  {
   "cell_type": "code",
   "execution_count": 6,
   "id": "35eb125d",
   "metadata": {},
   "outputs": [],
   "source": [
    "from CoffeeMachine import CoffeeMachine"
   ]
  },
  {
   "cell_type": "code",
   "execution_count": 7,
   "id": "c76071c8",
   "metadata": {},
   "outputs": [],
   "source": [
    "menu = {'latte' : {'ingredients' : {'coffee': 20, 'milk': 10, 'water': 50}, 'cost': 2},\n",
    "       'espresso' : {'ingredients' : {'coffee': 30, 'water': 20}, 'cost': 1.5}}\n",
    "\n",
    "resources = {'coffee': 200, 'milk': 200, 'water': 500}\n",
    "machine = CoffeeMachine(menu, resources)"
   ]
  },
  {
   "cell_type": "code",
   "execution_count": 10,
   "id": "b43e5ee1",
   "metadata": {
    "scrolled": true
   },
   "outputs": [
    {
     "name": "stdout",
     "output_type": "stream",
     "text": [
      "What would you like (latte, espresso)? espresso\n",
      "The espresso costs 1.5€.\n",
      "Please insert coins.\n",
      "\n",
      "How many 0.1€ coins would you like to add? 0\n",
      "How many 0.2€ coins would you like to add? 0\n",
      "How many 0.5€ coins would you like to add? 1\n",
      "How many 1€ coins would you like to add? 1\n",
      "How many 2€ coins would you like to add? 0\n",
      "\n",
      "Transaction accepted!\n",
      "Processing...\n",
      "Here is your espresso ☕\n"
     ]
    }
   ],
   "source": [
    "machine.get_coffee()"
   ]
  },
  {
   "cell_type": "code",
   "execution_count": 11,
   "id": "e51a0876",
   "metadata": {},
   "outputs": [
    {
     "name": "stdout",
     "output_type": "stream",
     "text": [
      "Money in the machine: 3.5€\n"
     ]
    }
   ],
   "source": [
    "machine.show_profit()"
   ]
  },
  {
   "cell_type": "code",
   "execution_count": 13,
   "id": "66bc048f",
   "metadata": {},
   "outputs": [
    {
     "name": "stdout",
     "output_type": "stream",
     "text": [
      "Available resources:\n",
      "coffee : 150 g\n",
      "milk : 190 g\n",
      "water : 430 g\n"
     ]
    }
   ],
   "source": [
    "machine.show_report()"
   ]
  },
  {
   "cell_type": "code",
   "execution_count": 14,
   "id": "1dc7dee8",
   "metadata": {},
   "outputs": [
    {
     "name": "stdout",
     "output_type": "stream",
     "text": [
      "Menu:\n",
      "latte : 2€\n",
      "espresso : 1.5€\n"
     ]
    }
   ],
   "source": [
    "machine.show_menu()"
   ]
  }
 ],
 "metadata": {
  "kernelspec": {
   "display_name": "Python 3 (ipykernel)",
   "language": "python",
   "name": "python3"
  },
  "language_info": {
   "codemirror_mode": {
    "name": "ipython",
    "version": 3
   },
   "file_extension": ".py",
   "mimetype": "text/x-python",
   "name": "python",
   "nbconvert_exporter": "python",
   "pygments_lexer": "ipython3",
   "version": "3.9.13"
  }
 },
 "nbformat": 4,
 "nbformat_minor": 5
}
